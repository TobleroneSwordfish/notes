{
 "cells": [
  {
   "cell_type": "code",
   "execution_count": 12,
   "metadata": {},
   "outputs": [
    {
     "name": "stdout",
     "output_type": "stream",
     "text": [
      "3A =  [[ 6  9]\n",
      " [12 -3]\n",
      " [15 18]]\n",
      "A + B =  [[ 7  5]\n",
      " [12  8]\n",
      " [ 7  7]]\n",
      "A transposed =  [[ 2  4  5]\n",
      " [ 3 -1  6]]\n"
     ]
    }
   ],
   "source": [
    "import numpy as np\n",
    "import matplotlib.pyplot as plt\n",
    "from mpl_toolkits.mplot3d import Axes3D\n",
    "from pprint import pprint\n",
    "\n",
    "%matplotlib inline\n",
    "# notebook\n",
    "import matplotlib.pylab as pylab\n",
    "pylab.rcParams['figure.figsize'] = (32.0, 24.0)\n",
    "pylab.rcParams['font.size'] = 24\n",
    "\n",
    "A = np.matrix('2 3; 4 -1; 5 6')\n",
    "B = np.matrix([[5, 2], [8, 9], [2, 1]])\n",
    "\n",
    "print('3A = ', (3 * A))\n",
    "\n",
    "print('A + B = ', A + B)\n",
    "\n",
    "print('A transposed = ', A.transpose())"
   ]
  },
  {
   "cell_type": "code",
   "execution_count": null,
   "metadata": {},
   "outputs": [],
   "source": []
  }
 ],
 "metadata": {
  "kernelspec": {
   "display_name": "Python 3",
   "language": "python",
   "name": "python3"
  },
  "language_info": {
   "codemirror_mode": {
    "name": "ipython",
    "version": 3
   },
   "file_extension": ".py",
   "mimetype": "text/x-python",
   "name": "python",
   "nbconvert_exporter": "python",
   "pygments_lexer": "ipython3",
   "version": "3.7.1"
  }
 },
 "nbformat": 4,
 "nbformat_minor": 2
}
